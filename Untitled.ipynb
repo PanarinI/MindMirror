{
 "cells": [
  {
   "cell_type": "code",
   "execution_count": 4,
   "id": "edb03438-025c-4928-a096-d7d09ad96b3e",
   "metadata": {},
   "outputs": [
    {
     "data": {
      "text/html": [
       "<div>\n",
       "<style scoped>\n",
       "    .dataframe tbody tr th:only-of-type {\n",
       "        vertical-align: middle;\n",
       "    }\n",
       "\n",
       "    .dataframe tbody tr th {\n",
       "        vertical-align: top;\n",
       "    }\n",
       "\n",
       "    .dataframe thead th {\n",
       "        text-align: right;\n",
       "    }\n",
       "</style>\n",
       "<table border=\"1\" class=\"dataframe\">\n",
       "  <thead>\n",
       "    <tr style=\"text-align: right;\">\n",
       "      <th></th>\n",
       "      <th>name</th>\n",
       "      <th>type</th>\n",
       "      <th>id</th>\n",
       "      <th>messages</th>\n",
       "    </tr>\n",
       "  </thead>\n",
       "  <tbody>\n",
       "    <tr>\n",
       "      <th>0</th>\n",
       "      <td>Группа поддержки сами знаете кого</td>\n",
       "      <td>private_supergroup</td>\n",
       "      <td>2169020205</td>\n",
       "      <td>{'id': -999936489, 'type': 'service', 'date': ...</td>\n",
       "    </tr>\n",
       "    <tr>\n",
       "      <th>1</th>\n",
       "      <td>Группа поддержки сами знаете кого</td>\n",
       "      <td>private_supergroup</td>\n",
       "      <td>2169020205</td>\n",
       "      <td>{'id': -999936488, 'type': 'message', 'date': ...</td>\n",
       "    </tr>\n",
       "    <tr>\n",
       "      <th>2</th>\n",
       "      <td>Группа поддержки сами знаете кого</td>\n",
       "      <td>private_supergroup</td>\n",
       "      <td>2169020205</td>\n",
       "      <td>{'id': -999936487, 'type': 'message', 'date': ...</td>\n",
       "    </tr>\n",
       "    <tr>\n",
       "      <th>3</th>\n",
       "      <td>Группа поддержки сами знаете кого</td>\n",
       "      <td>private_supergroup</td>\n",
       "      <td>2169020205</td>\n",
       "      <td>{'id': -999936486, 'type': 'message', 'date': ...</td>\n",
       "    </tr>\n",
       "    <tr>\n",
       "      <th>4</th>\n",
       "      <td>Группа поддержки сами знаете кого</td>\n",
       "      <td>private_supergroup</td>\n",
       "      <td>2169020205</td>\n",
       "      <td>{'id': -999936485, 'type': 'message', 'date': ...</td>\n",
       "    </tr>\n",
       "  </tbody>\n",
       "</table>\n",
       "</div>"
      ],
      "text/plain": [
       "                                name                type          id  \\\n",
       "0  Группа поддержки сами знаете кого  private_supergroup  2169020205   \n",
       "1  Группа поддержки сами знаете кого  private_supergroup  2169020205   \n",
       "2  Группа поддержки сами знаете кого  private_supergroup  2169020205   \n",
       "3  Группа поддержки сами знаете кого  private_supergroup  2169020205   \n",
       "4  Группа поддержки сами знаете кого  private_supergroup  2169020205   \n",
       "\n",
       "                                            messages  \n",
       "0  {'id': -999936489, 'type': 'service', 'date': ...  \n",
       "1  {'id': -999936488, 'type': 'message', 'date': ...  \n",
       "2  {'id': -999936487, 'type': 'message', 'date': ...  \n",
       "3  {'id': -999936486, 'type': 'message', 'date': ...  \n",
       "4  {'id': -999936485, 'type': 'message', 'date': ...  "
      ]
     },
     "execution_count": 4,
     "metadata": {},
     "output_type": "execute_result"
    }
   ],
   "source": [
    "import pandas as pd\n",
    "\n",
    "# Предположим, что у вас есть DataFrame\n",
    "df = pd.read_json(\"result_group.json\")\n",
    "\n",
    "# Выводим таблицу\n",
    "df.head()  # Отобразит первые несколько строк таблицы в интерактивном виде\n",
    "\n"
   ]
  },
  {
   "cell_type": "code",
   "execution_count": 3,
   "id": "e0f087b5-9f97-4a42-b233-6c0574469272",
   "metadata": {},
   "outputs": [
    {
     "name": "stdout",
     "output_type": "stream",
     "text": [
      "F:\\PythonProject\\MirrorMind\n"
     ]
    }
   ],
   "source": [
    "import os\n",
    "print(os.getcwd())\n"
   ]
  },
  {
   "cell_type": "code",
   "execution_count": null,
   "id": "485968ed-bacb-49c6-9079-2c96c0d5017a",
   "metadata": {},
   "outputs": [],
   "source": []
  }
 ],
 "metadata": {
  "kernelspec": {
   "display_name": "Python 3 (ipykernel)",
   "language": "python",
   "name": "python3"
  },
  "language_info": {
   "codemirror_mode": {
    "name": "ipython",
    "version": 3
   },
   "file_extension": ".py",
   "mimetype": "text/x-python",
   "name": "python",
   "nbconvert_exporter": "python",
   "pygments_lexer": "ipython3",
   "version": "3.13.0"
  }
 },
 "nbformat": 4,
 "nbformat_minor": 5
}
