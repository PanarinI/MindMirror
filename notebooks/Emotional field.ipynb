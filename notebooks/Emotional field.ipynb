{
 "cells": [
  {
   "cell_type": "code",
   "execution_count": 7,
   "id": "88e6887f-217c-475b-8c2e-08ac999151b4",
   "metadata": {},
   "outputs": [
    {
     "name": "stdout",
     "output_type": "stream",
     "text": [
      "Файл успешно загружен!\n",
      "Эмоциональный фон чата: {'positive': 83, 'negative': 30, 'neutral': 11678}\n"
     ]
    }
   ],
   "source": [
    "import json\n",
    "from collections import Counter\n",
    "\n",
    "# Пример словаря тональности\n",
    "positive_words = {\"хорошо\", \"отлично\", \"спасибо\", \"супер\", \"радость\"}\n",
    "negative_words = {\"плохо\", \"ужасно\", \"проблема\", \"злость\", \"грусть\"}\n",
    "\n",
    "# Укажите полный путь к файлу\n",
    "file_path = r'F:\\PythonProject\\MirrorMind\\data\\GN.json'\n",
    "\n",
    "try:\n",
    "    with open(file_path, 'r', encoding='utf-8') as f:\n",
    "        chat_data = json.load(f)\n",
    "\n",
    "    print(\"Файл успешно загружен!\")\n",
    "except FileNotFoundError:\n",
    "    print(f\"Файл не найден: {file_path}. Проверьте путь к файлу.\")\n",
    "# Анализ сообщений\n",
    "messages = [msg[\"text\"] for msg in chat_data[\"messages\"] if \"text\" in msg and isinstance(msg[\"text\"], str)]\n",
    "\n",
    "# Подсчёт тональности\n",
    "emotions = {\"positive\": 0, \"negative\": 0, \"neutral\": 0}\n",
    "for message in messages:\n",
    "    words = set(message.lower().split())\n",
    "    if words & positive_words:\n",
    "        emotions[\"positive\"] += 1\n",
    "    elif words & negative_words:\n",
    "        emotions[\"negative\"] += 1\n",
    "    else:\n",
    "        emotions[\"neutral\"] += 1\n",
    "\n",
    "# Вывод результатов\n",
    "print(\"Эмоциональный фон чата:\", emotions)\n"
   ]
  },
  {
   "cell_type": "code",
   "execution_count": 1,
   "id": "1e8b0835-6b13-4163-ba1c-c7378d1458e7",
   "metadata": {},
   "outputs": [
    {
     "ename": "ModuleNotFoundError",
     "evalue": "No module named 'transformers'",
     "output_type": "error",
     "traceback": [
      "\u001b[1;31m---------------------------------------------------------------------------\u001b[0m",
      "\u001b[1;31mModuleNotFoundError\u001b[0m                       Traceback (most recent call last)",
      "Cell \u001b[1;32mIn[1], line 2\u001b[0m\n\u001b[0;32m      1\u001b[0m \u001b[38;5;28;01mimport\u001b[39;00m \u001b[38;5;21;01mjson\u001b[39;00m\n\u001b[1;32m----> 2\u001b[0m \u001b[38;5;28;01mfrom\u001b[39;00m \u001b[38;5;21;01mtransformers\u001b[39;00m \u001b[38;5;28;01mimport\u001b[39;00m pipeline\n\u001b[0;32m      3\u001b[0m \u001b[38;5;28;01mimport\u001b[39;00m \u001b[38;5;21;01mmatplotlib\u001b[39;00m\u001b[38;5;21;01m.\u001b[39;00m\u001b[38;5;21;01mpyplot\u001b[39;00m \u001b[38;5;28;01mas\u001b[39;00m \u001b[38;5;21;01mplt\u001b[39;00m\n\u001b[0;32m      4\u001b[0m \u001b[38;5;28;01mimport\u001b[39;00m \u001b[38;5;21;01mpandas\u001b[39;00m \u001b[38;5;28;01mas\u001b[39;00m \u001b[38;5;21;01mpd\u001b[39;00m\n",
      "\u001b[1;31mModuleNotFoundError\u001b[0m: No module named 'transformers'"
     ]
    }
   ],
   "source": [
    "import json\n",
    "from transformers import pipeline\n",
    "import matplotlib.pyplot as plt\n",
    "import pandas as pd\n",
    "\n",
    "# 1. Подключение модели анализа тональности\n",
    "sentiment_analyzer = pipeline(\"sentiment-analysis\", model=\"blanchefort/rubert-base-cased-sentiment\")\n",
    "\n",
    "# 2. Загрузка данных чата из JSON-файла\n",
    "file_path = 'F:\\\\PythonProject\\\\MirrorMind\\\\data\\\\GN.json'  # Замените на путь к вашему файлу\n",
    "with open(file_path, 'r', encoding='utf-8') as f:\n",
    "    chat_data = json.load(f)\n",
    "\n",
    "# Извлечение текстов сообщений\n",
    "messages = [msg[\"text\"] for msg in chat_data[\"messages\"] if \"text\" in msg and isinstance(msg[\"text\"], str)]\n",
    "\n",
    "# 3. Анализ тональности батчами\n",
    "batch_size = 32  # Размер батча для обработки\n",
    "results = []\n",
    "\n",
    "for i in range(0, len(messages), batch_size):\n",
    "    batch = messages[i:i + batch_size]\n",
    "    batch_results = sentiment_analyzer(batch)\n",
    "    results.extend(batch_results)\n",
    "\n",
    "# 4. Подсчёт тональности\n",
    "emotions = {\"POSITIVE\": 0, \"NEGATIVE\": 0, \"NEUTRAL\": 0}\n",
    "for result in results:\n",
    "    emotions[result['label']] += 1\n",
    "\n",
    "print(\"Эмоциональный фон чата:\")\n",
    "print(emotions)\n",
    "\n",
    "# 5. Визуализация данных\n",
    "# Круговая диаграмма\n",
    "labels = emotions.keys()\n",
    "sizes = emotions.values()\n",
    "colors = ['#8fd694', '#ff6b6b', '#d3d3d3']  # Цвета для POSITIVE, NEGATIVE, NEUTRAL\n",
    "explode = (0.1, 0.1, 0)  # Выделяем позитивные и негативные\n",
    "\n",
    "plt.figure(figsize=(8, 8))\n",
    "plt.pie(sizes, labels=labels, colors=colors, explode=explode, autopct='%1.1f%%', startangle=140)\n",
    "plt.title('Эмоциональный фон чата')\n",
    "plt.show()\n",
    "\n",
    "# Линейный график (если есть временные метки)\n",
    "# Если у сообщений есть временные метки:\n",
    "if \"date\" in chat_data[\"messages\"][0]:\n",
    "    timestamps = [msg[\"date\"] for msg in chat_data[\"messages\"] if \"date\" in msg]\n",
    "    emotion_labels = [result['label'] for result in results]\n",
    "\n",
    "    # Создание DataFrame\n",
    "    data = {\"timestamp\": timestamps, \"emotion\": emotion_labels}\n",
    "    df = pd.DataFrame(data)\n",
    "\n",
    "    # Преобразование временных меток\n",
    "    df['timestamp'] = pd.to_datetime(df['timestamp'])\n",
    "    df.set_index('timestamp', inplace=True)\n",
    "\n",
    "    # Группировка по дате\n",
    "    time_emotions = df.groupby([pd.Grouper(freq='D'), 'emotion']).size().unstack(fill_value=0)\n",
    "\n",
    "    # Построение графика\n",
    "    time_emotions.plot(figsize=(10, 6), kind='line', title='Эмоциональный фон по времени')\n",
    "    plt.xlabel('Дата')\n",
    "    plt.ylabel('Количество сообщений')\n",
    "    plt.show()\n"
   ]
  },
  {
   "cell_type": "code",
   "execution_count": null,
   "id": "f46e4965-6ff3-4a0d-9fb7-91efd1ecd6b2",
   "metadata": {},
   "outputs": [],
   "source": []
  }
 ],
 "metadata": {
  "kernelspec": {
   "display_name": "Python 3 (ipykernel)",
   "language": "python",
   "name": "python3"
  },
  "language_info": {
   "codemirror_mode": {
    "name": "ipython",
    "version": 3
   },
   "file_extension": ".py",
   "mimetype": "text/x-python",
   "name": "python",
   "nbconvert_exporter": "python",
   "pygments_lexer": "ipython3",
   "version": "3.13.0"
  }
 },
 "nbformat": 4,
 "nbformat_minor": 5
}
